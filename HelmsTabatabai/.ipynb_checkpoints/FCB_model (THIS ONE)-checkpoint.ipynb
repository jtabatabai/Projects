{
 "cells": [
  {
   "cell_type": "markdown",
   "metadata": {},
   "source": [
    "Article\n",
    "A Bottom-Up Approach to Lithium-Ion Battery Cost\n",
    "Modeling with a Focus on Cathode Active Materials\n",
    "https://www.mdpi.com/1996-1073/12/3/504/pdf-vor"
   ]
  },
  {
   "cell_type": "markdown",
   "metadata": {},
   "source": [
    "# Model domain:\n",
    "- Porous graphite anode\n",
    "- Porous electrolyte separator (LiPF6 & Ethylene Carbonate:Dimethyl Carbonate)\n",
    "- Porous LiCoO2 cathode (LCO)\n",
    "\n",
    "State variables:\n",
    "- Li volume fraction $X_{\\rm Li}$ in the graphite, $X_{\\rm Li,an}$\n",
    "- Electric potential of the graphite\n",
    "- Concentration of the Li+ in the electrolyte in the anode.\n",
    "- Electrolyte electric potential in the anode, $\\phi_{\\rm an}$\n",
    "- Concentration of the Li+ in the electrolyte in the separator.\n",
    "- Electrolyte electric potential in the separator, $\\phi_{\\rm sep}$\n",
    "- Concentration of the Li+ in the electrolyte in the cathode.\n",
    "- Electrolyte electric potential in the cathode, $\\phi_{\\rm ca}$\n",
    "- Li intercalation fraction $X_{\\rm Li}$ in the LCO, $X_{\\rm Li,ca}$\n",
    "- Electric potential in the LCO\n",
    "\n",
    "\n",
    "# Double Layer Current \n",
    "\n",
    "Conservation of charge for the anode double layer:\n",
    "\\begin{equation}\n",
    "    \\frac{\\partial Q_{\\rm an}}{\\partial t} = 0 = -I_{\\rm ext} -i _{\\rm Far}A_{\\rm surf} - i_{\\rm dl}A_{\\rm surf}\n",
    "\\end{equation}\n",
    "Given:\n",
    "\\begin{equation}\n",
    "    I_{\\rm ext} = i_{\\rm ext}A_{\\rm geo}\n",
    "\\end{equation}\n",
    "We get:\n",
    "\\begin{equation}\n",
    "    i_{\\rm dl} = -i_{\\rm ext}\\frac{A_{\\rm geo}}{A_{\\rm surf}} -i _{\\rm Far}\n",
    "\\end{equation}\n",
    "Given:\n",
    "\\begin{equation}\n",
    "    A_{\\rm surf} = 4\\pi r_p^2 N_p\n",
    "\\end{equation}   \n",
    "and Given:\n",
    "\\begin{equation}\n",
    "    n_p = \\frac{N_p}{A_{geo}}\n",
    "\\end{equation}\n",
    "and Given:\n",
    "\\begin{equation} \n",
    "    \\varepsilon_s = \\frac{V_{solids}}{V_{total}} = \\frac{N_p\\frac{4}{3}{\\pi}r_p^3}{A_{geo} H_{el}}\n",
    "\\end{equation}\n",
    "We get:\n",
    "\\begin{equation}\n",
    "    n_p = \\frac{3 H_{el} \\varepsilon_s}{4 \\pi r_p^3}\n",
    "\\end{equation}\n",
    "and We get:\n",
    "\\begin{equation}\n",
    "    A_{\\rm surf} = 4\\pi r_p^2 A_{geo} n_p\n",
    "\\end{equation} \n",
    "Which gives:\n",
    "\\begin{equation}\n",
    "    \\frac{A_{geo}}{A_{\\rm surf}} = \\frac{1}{4\\pi r_p^2 n_p}\n",
    "\\end{equation} \n",
    "Which gives:\n",
    "\\begin{equation}\n",
    "    \\frac{A_{geo}}{A_{\\rm surf}} = \\frac{4 \\pi r_p^3}{4\\pi r_p^2 3 H_{el} \\varepsilon_s}\n",
    "\\end{equation} \n",
    "Which reduces to:\n",
    "\\begin{equation}\n",
    "    \\frac{A_{geo}}{A_{\\rm surf}} = \\frac{r_p}{3 H_{el} \\varepsilon_s} = A_{\\rm fac}\n",
    "\\end{equation} \n",
    "Which gives:\n",
    "\\begin{equation}\n",
    "    i_{\\rm dl} = -i_{\\rm ext}\\frac{r_p}{3 H_{el} \\varepsilon_s} -i _{\\rm Far}\n",
    "\\end{equation}\n",
    "\n",
    "# Double Layer Potential\n",
    "\n",
    "Given:\n",
    "\\begin{equation}\n",
    "    \\frac{dQ_{\\rm dl}}{dt} = i_{\\rm dl}A_{\\rm surf}\n",
    "\\end{equation}\n",
    "and Given:\n",
    "\\begin{equation}\n",
    "    Q_{\\rm dl} = A_{\\rm surf}C_{\\rm dl}\\Delta\\phi_{\\rm dl}\n",
    "\\end{equation}\n",
    "For constant $A_{\\rm surf}$ and $C_{\\rm dl}$ We get:\n",
    "\\begin{equation}\n",
    "    \\frac{dA_{\\rm surf}C_{\\rm dl}\\Delta\\phi_{\\rm dl}}{dt} = A_{\\rm surf}C_{\\rm dl}\\frac{d\\Delta\\phi_{\\rm dl}}{dt} = A_{\\rm surf}i_{\\rm dl}\n",
    "\\end{equation}\n",
    "Given:\n",
    "\\begin{equation}\n",
    "    \\Delta\\phi_{\\rm dl} = \\phi_{\\rm elyte} - \\phi_{\\rm an}\n",
    "\\end{equation}\n",
    "We get:\n",
    "\\begin{equation}\n",
    "    \\frac{d\\Delta\\phi_{\\rm dl}}{dt} =\\frac{d\\left(\\phi_{\\rm elyte} - \\phi_{\\rm an}\\right)}{dt} = \\frac{i_{\\rm dl}}{C_{\\rm dl}} = \\frac{1}{C_{\\rm dl}}\\left(-i_{\\rm ext}A_{\\rm fac} -i _{\\rm Far}\\right)\n",
    "\\end{equation}\n",
    "Using the anode as our reference potential gives:\n",
    "\\begin{equation}\n",
    "    \\phi_{\\rm an} = 0V\n",
    "\\end{equation}\n",
    "Which gives:\n",
    "\\begin{equation}\n",
    "    \\Delta\\phi_{\\rm dl} = \\phi_{\\rm elyte}\n",
    "\\end{equation}\n"
   ]
  },
  {
   "cell_type": "code",
   "execution_count": 33,
   "metadata": {},
   "outputs": [],
   "source": [
    "# Inputs:\n",
    "\n",
    "#General\n",
    "C_rate = 6 # How many charges per hour? \n",
    "charge_frac = 0.9\n",
    "discharge_frac = 0.1\n",
    "d_battery = 0.018 #m\n",
    "T = 298 #K W\n",
    "nu_Li = 1 #mol Li/mol rxn\n",
    "\n",
    "#Anode\n",
    "r_p_an = 4e-6 #m  (https://www.sigmaaldrich.com/catalog/product/supelco/50226u?lang=en&region=US)\n",
    "phi_an_0 = 0 #V \n",
    "C_dl_an = 1e4 #F/m2\n",
    "i_o_an = 4.0  #A/m2\n",
    "n_an = -1\n",
    "beta_an = 0.5\n",
    "H_an = 45e-6  #m (https://arxiv.org/abs/1803.04317)\n",
    "density_graphite = 2260 #kg/m3 (https://www.entegris.com/content/dam/web/resources/manuals-and-guides/manual-properties-and-characteristics-of-graphite-109441.pdf)\n",
    "capacity_graphite = 350 #Ah/kg\n",
    "eps_graphite = 0.65 #(https://www.entegris.com/content/dam/web/resources/manuals-and-guides/manual-properties-and-characteristics-of-graphite-109441.pdf)\n",
    "dPhi_eq_an = -1.6\n",
    "MW_graphite = 0.072 #kg/mol\n",
    "X_Li_an_0 = 0.49 # @full charge(https://www.sciencedirect.com/science/article/pii/S0013468619316688)\n",
    "\n",
    "#Electrolyte\n",
    "phi_sep_0 = 1.8  #V W \n",
    "H_elyte = 25e-6 #m\n",
    "\n",
    "#Cathode\n",
    "r_p_ca = 8.5e-6 #m (https://www.sciencedirect.com/science/article/pii/S2187076417300271#:~:text=1%20shows%20an%20SEM%20micrograph,%E2%88%BC8.5%20%C2%B1%203.5%20%CE%BCm.)\n",
    "phi_ca_0 = 4.6  #V \n",
    "C_dl_ca = 1e4 #F/m2\n",
    "i_o_ca = 100 #A/m2\n",
    "n_ca = -1\n",
    "beta_ca = 0.5\n",
    "H_ca = 50e-6  #m\n",
    "density_LCO = 2292  #kg/m3\n",
    "capacity_LCO = 175  #Ah/kg\n",
    "eps_LCO = 0.65\n",
    "dPhi_eq_ca = 2.6\n",
    "MW_LCO = 0.098 #kg/mol\n",
    "X_Li_ca_0 = 0.75 # @full charge (https://www.sciencedirect.com/science/article/pii/S0013468619316688)\n"
   ]
  },
  {
   "cell_type": "markdown",
   "metadata": {},
   "source": [
    "### Capacity\n",
    "\n",
    "\\begin{equation}\n",
    "    {\\rm Cap} = C_{\\rm AM}\\rho_{\\rm AM}\\varepsilon_{\\rm AM}H_{\\rm el}\n",
    "\\end{equation}\n"
   ]
  },
  {
   "cell_type": "code",
   "execution_count": 34,
   "metadata": {},
   "outputs": [],
   "source": [
    "# Initialize:\n",
    "import numpy as np\n",
    "from math import exp\n",
    "from math import pi\n",
    "\n",
    "#Potentials\n",
    "phi_dl_an_0 = phi_an_0 - phi_sep_0\n",
    "phi_dl_ca_0 = phi_ca_0 - phi_sep_0\n",
    "\n",
    "#Capacities\n",
    "capacity_anode = capacity_graphite*H_an*eps_graphite*density_graphite\n",
    "capacity_cathode = capacity_LCO*H_ca*eps_LCO*density_LCO\n",
    "capacity_area = min(capacity_anode,capacity_cathode)\n",
    "\n",
    "#Time to charge\n",
    "t_final = charge_frac*3600./C_rate\n",
    "#external current\n",
    "i_ext = C_rate*capacity_area\n",
    "\n",
    "#Area calcs\n",
    "A_geo = pi*(d_battery/2)**2\n",
    "A_fac_an = r_p_an/3/H_an/eps_graphite\n",
    "A_fac_ca = r_p_ca/3/H_ca/eps_LCO"
   ]
  },
  {
   "cell_type": "code",
   "execution_count": 35,
   "metadata": {},
   "outputs": [],
   "source": [
    "# Constants\n",
    "F = 96485\n",
    "R = 8.3145"
   ]
  },
  {
   "cell_type": "code",
   "execution_count": 36,
   "metadata": {},
   "outputs": [],
   "source": [
    "#function updating dSV_dt\n",
    "def residual(t,SV):\n",
    "    dSV_dt = np.zeros_like(SV)\n",
    "    \n",
    "    eta_an = SV[0] - dPhi_eq_an\n",
    "    i_Far_an = i_o_an*(exp(-n_an*F*beta_an*eta_an/R/T)\n",
    "                      - exp(n_an*F*(1-beta_an)*eta_an/R/T))\n",
    "    i_dl_an = i_ext*A_fac_an - i_Far_an\n",
    "    \n",
    "    dSV_dt[0] = i_dl_an/C_dl_an\n",
    "    \n",
    "    \n",
    "    eta_ca = SV[1] - dPhi_eq_ca\n",
    "    i_Far_ca = i_o_ca*(exp(-n_ca*F*beta_ca*eta_ca/R/T)\n",
    "                      - exp(n_ca*F*(1-beta_ca)*eta_ca/R/T))\n",
    "    i_dl_ca = -i_ext*A_fac_ca - i_Far_ca\n",
    "    \n",
    "    \n",
    "    dSV_dt[1] = i_dl_ca/C_dl_ca\n",
    "    \n",
    "    #V_cell = dSV_dt[0]-dSV_dt[1]\n",
    "\n",
    "    \n",
    "    return dSV_dt\n",
    " "
   ]
  },
  {
   "cell_type": "code",
   "execution_count": 37,
   "metadata": {},
   "outputs": [],
   "source": [
    "from scipy.integrate import solve_ivp\n",
    "\n",
    "#initial value to start integration\n",
    "SV_0 = np.array([phi_dl_an_0, phi_dl_ca_0])\n",
    "#time for integration\n",
    "time_span = np.array([0,t_final])\n",
    "\n",
    "#integrate residual func: dSV_dt over time\n",
    "solution = solve_ivp(residual,time_span,SV_0,rtol=1e-6, atol=1e-8)\n",
    "\n",
    "#print (solution) \n",
    "\n"
   ]
  },
  {
   "cell_type": "code",
   "execution_count": 38,
   "metadata": {
    "scrolled": true
   },
   "outputs": [
    {
     "data": {
      "text/plain": [
       "Text(0.5, 0, 'Time(s)')"
      ]
     },
     "execution_count": 38,
     "metadata": {},
     "output_type": "execute_result"
    },
    {
     "data": {
      "image/png": "[encoded data removed]",
      "text/plain": [
       "<Figure size 432x288 with 1 Axes>"
      ]
     },
     "metadata": {
      "needs_background": "light"
     },
     "output_type": "display_data"
    }
   ],
   "source": [
    "from matplotlib import pyplot as plt\n",
    "for var in solution.y:\n",
    "    plt.plot(solution.t,var)\n",
    "    \n",
    "plt.legend(['Anode double layer','Cathode double layer'])\n",
    "\n",
    "plt.legend(['Anode double layer','Cathode double layer'])\n",
    "plt.ylabel('Potential (V)',fontsize=14)\n",
    "plt.xlabel('Time(s)',fontsize=14)"
   ]
  },
  {
   "cell_type": "code",
   "execution_count": 39,
   "metadata": {},
   "outputs": [
    {
     "data": {
      "text/plain": [
       "Text(0.5, 0, 'Time(s)')"
      ]
     },
     "execution_count": 39,
     "metadata": {},
     "output_type": "execute_result"
    },
    {
     "data": {
      "image/png": "[encoded data removed]",
      "text/plain": [
       "<Figure size 432x288 with 1 Axes>"
      ]
     },
     "metadata": {
      "needs_background": "light"
     },
     "output_type": "display_data"
    }
   ],
   "source": [
    "#print (solution.y[0])\n",
    "#print (solution.y[1])\n",
    "\n",
    "#Calc and print V_cell\n",
    "for var in solution.y:\n",
    "    V_cell = solution.y[1]-solution.y[0]\n",
    "    plt.plot(solution.t,V_cell)\n",
    "#print(V_cell)\n",
    "#plt.plot(V_cell)\n",
    "plt.ylabel('Cell Potential (V)',fontsize=14)\n",
    "plt.xlabel('Time(s)',fontsize=14)"
   ]
  },
  {
   "cell_type": "code",
   "execution_count": 40,
   "metadata": {},
   "outputs": [],
   "source": [
    "def residual(t,SV):\n",
    "    #dSV_dt = np.zeros_like(SV)\n",
    "    dX_Li_dt = np.zeros_like(SV)\n",
    "    \n",
    "    #anode\n",
    "    eta_an = SV[0] - dPhi_eq_an\n",
    "    i_Far_an = i_o_an*(exp(-n_an*F*beta_an*eta_an/R/T)\n",
    "                      - exp(n_an*F*(1-beta_an)*eta_an/R/T))\n",
    "    i_dl_an = i_ext*A_fac_an - i_Far_an\n",
    "    \n",
    "    #dSV_dt[0] = i_dl_an/C_dl_an\n",
    "    \n",
    "    s_dot_an = i_Far_an*nu_Li/n_an/F\n",
    "\n",
    "    C_0_an = density_graphite/MW_graphite\n",
    "    N_graphite = 3*H_an*eps_graphite*A_geo/(4*pi*r_p_an**3)\n",
    "    A_surf = 4*pi*(r_p_an**2)*N_graphite\n",
    "\n",
    "    dX_Li_dt[0] = 1/C_0_an/eps_graphite*A_surf/A_geo/H_an*s_dot_an\n",
    "    \n",
    "    #cathode\n",
    "    eta_ca =  - dPhi_eq_ca\n",
    "    i_Far_ca = i_o_ca*(exp(-n_ca*F*beta_ca*eta_ca/R/T)\n",
    "                      - exp(n_ca*F*(1-beta_ca)*eta_ca/R/T))\n",
    "    i_dl_ca = -i_ext*A_fac_ca - i_Far_ca\n",
    "    \n",
    "    \n",
    "    #dSV_dt[1] = i_dl_ca/C_dl_ca\n",
    "    s_dot_ca = i_Far_ca*nu_Li/n_ca/F\n",
    "\n",
    "    C_0_ca = density_LCO/MW_LCO\n",
    "    N_LCO = 3*H_an*eps_LCO*A_geo/(4*pi*r_p_ca**3)\n",
    "    A_surf = 4*pi*(r_p_ca**2)*N_LCO\n",
    "\n",
    "    dX_Li_dt[1] = 1/C_0_ca/eps_graphite*A_surf/A_geo/H_ca*s_dot_ca\n",
    "    \n",
    "    #V_cell = dSV_dt[0]-dSV_dt[1]\n",
    "    \n",
    "    return dX_Li_dt"
   ]
  },
  {
   "cell_type": "code",
   "execution_count": 41,
   "metadata": {},
   "outputs": [],
   "source": [
    "from scipy.integrate import solve_ivp\n",
    "\n",
    "SV_0 = np.array([phi_dl_an_0, phi_dl_ca_0])\n",
    "\n",
    "time_span = np.array([0,t_final])\n",
    "\n",
    "solution = solve_ivp(residual,time_span,SV_0,rtol=1e-6, atol=1e-8)\n",
    "\n",
    "#print (solution) "
   ]
  },
  {
   "cell_type": "code",
   "execution_count": 42,
   "metadata": {},
   "outputs": [
    {
     "data": {
      "text/plain": [
       "Text(0.5, 0, 'Time(s)')"
      ]
     },
     "execution_count": 42,
     "metadata": {},
     "output_type": "execute_result"
    },
    {
     "data": {
      "image/png": "[encoded data removed]",
      "text/plain": [
       "<Figure size 432x288 with 1 Axes>"
      ]
     },
     "metadata": {
      "needs_background": "light"
     },
     "output_type": "display_data"
    }
   ],
   "source": [
    "from matplotlib import pyplot as plt\n",
    "for var in solution.y:\n",
    "    plt.plot(solution.t,var)\n",
    "    \n",
    "#plt.legend(['Anode double layer','Cathode double layer'])\n",
    "\n",
    "#plt.legend(['Anode double layer','Cathode double layer'])\n",
    "plt.ylabel('X_Li',fontsize=14)\n",
    "plt.xlabel('Time(s)',fontsize=14)"
   ]
  },
  {
   "cell_type": "code",
   "execution_count": 137,
   "metadata": {},
   "outputs": [
    {
     "ename": "IndexError",
     "evalue": "index 100 is out of bounds for axis 0 with size 100",
     "output_type": "error",
     "traceback": [
      "\u001b[1;31m---------------------------------------------------------------------------\u001b[0m",
      "\u001b[1;31mIndexError\u001b[0m                                Traceback (most recent call last)",
      "\u001b[1;32m<ipython-input-137-5347344838cf>\u001b[0m in \u001b[0;36m<module>\u001b[1;34m\u001b[0m\n\u001b[0;32m     15\u001b[0m \u001b[1;33m\u001b[0m\u001b[0m\n\u001b[0;32m     16\u001b[0m \u001b[1;32mfor\u001b[0m \u001b[0mt\u001b[0m \u001b[1;32min\u001b[0m \u001b[0mrange\u001b[0m \u001b[1;33m(\u001b[0m\u001b[1;36m0\u001b[0m\u001b[1;33m,\u001b[0m \u001b[0mt_final\u001b[0m\u001b[1;33m)\u001b[0m\u001b[1;33m:\u001b[0m\u001b[1;33m\u001b[0m\u001b[1;33m\u001b[0m\u001b[0m\n\u001b[1;32m---> 17\u001b[1;33m     \u001b[0ms_dot_an\u001b[0m \u001b[1;33m=\u001b[0m \u001b[0mi_Far_an\u001b[0m\u001b[1;33m[\u001b[0m\u001b[0mt\u001b[0m\u001b[1;33m]\u001b[0m\u001b[1;33m*\u001b[0m\u001b[0mnu_Li\u001b[0m\u001b[1;33m/\u001b[0m\u001b[0mn_an\u001b[0m\u001b[1;33m/\u001b[0m\u001b[0mF\u001b[0m\u001b[1;33m\u001b[0m\u001b[1;33m\u001b[0m\u001b[0m\n\u001b[0m\u001b[0;32m     18\u001b[0m     \u001b[0mC_0_an\u001b[0m \u001b[1;33m=\u001b[0m \u001b[0mdensity_graphite\u001b[0m\u001b[1;33m/\u001b[0m\u001b[0mMW_graphite\u001b[0m\u001b[1;33m\u001b[0m\u001b[1;33m\u001b[0m\u001b[0m\n\u001b[0;32m     19\u001b[0m     \u001b[0mN_graphite\u001b[0m \u001b[1;33m=\u001b[0m \u001b[1;36m3\u001b[0m\u001b[1;33m*\u001b[0m\u001b[0mH_an\u001b[0m\u001b[1;33m*\u001b[0m\u001b[0meps_graphite\u001b[0m\u001b[1;33m*\u001b[0m\u001b[0mA_geo\u001b[0m\u001b[1;33m/\u001b[0m\u001b[1;33m(\u001b[0m\u001b[1;36m4\u001b[0m\u001b[1;33m*\u001b[0m\u001b[0mpi\u001b[0m\u001b[1;33m*\u001b[0m\u001b[0mr_p_an\u001b[0m\u001b[1;33m**\u001b[0m\u001b[1;36m3\u001b[0m\u001b[1;33m)\u001b[0m\u001b[1;33m\u001b[0m\u001b[1;33m\u001b[0m\u001b[0m\n",
      "\u001b[1;31mIndexError\u001b[0m: index 100 is out of bounds for axis 0 with size 100"
     ]
    }
   ],
   "source": [
    "t = 0\n",
    "t_final = 200\n",
    "end = t_final + 1\n",
    "X_Li_an = np.empty(end)\n",
    "\n",
    "#X_Li_an[0] = 0.001\n",
    "\n",
    "delta_phi = np.linspace(-0.9,0.05,100)\n",
    "i_Far_an = np.zeros_like(delta_phi)\n",
    "for ind, E in enumerate(delta_phi):\n",
    "    eta = delta_phi[ind]-dPhi_eq_an\n",
    "    i_Far_an[ind] = i_o_an*(exp(-n_an*F*beta_an*eta_an[t]/R/T)\n",
    "                     - exp(n_an*F*(1-beta_an)*eta_an[t]/R/T))\n",
    "\n",
    "    \n",
    "for t in range (0, t_final):   \n",
    "    s_dot_an = i_Far_an[t]*nu_Li/n_an/F\n",
    "    C_0_an = density_graphite/MW_graphite\n",
    "    N_graphite = 3*H_an*eps_graphite*A_geo/(4*pi*r_p_an**3)\n",
    "    A_surf = 4*pi*(r_p_an**2)*N_graphite\n",
    "    dX_Li_dt = 1/C_0_an/eps_graphite*A_surf/A_geo/H_an*s_dot_an\n",
    "    X_Li_an[t+1] = X_Li_an[t] + dX_Li_dt\n",
    "    #X_Li_an.append()\n",
    "    #print(dX_Li_dt)\n",
    "    t = t+1"
   ]
  },
  {
   "cell_type": "code",
   "execution_count": 133,
   "metadata": {},
   "outputs": [
    {
     "data": {
      "text/plain": [
       "[<matplotlib.lines.Line2D at 0x280344aaa90>]"
      ]
     },
     "execution_count": 133,
     "metadata": {},
     "output_type": "execute_result"
    },
    {
     "data": {
      "image/png": "[encoded data removed]",
      "text/plain": [
       "<Figure size 432x288 with 1 Axes>"
      ]
     },
     "metadata": {
      "needs_background": "light"
     },
     "output_type": "display_data"
    }
   ],
   "source": [
    "t = np.arange(0, end)\n",
    "plt.plot(t, X_Li_an[t])"
   ]
  },
  {
   "cell_type": "code",
   "execution_count": null,
   "metadata": {},
   "outputs": [],
   "source": []
  }
 ],
 "metadata": {
  "kernelspec": {
   "display_name": "Python 3",
   "language": "python",
   "name": "python3"
  },
  "language_info": {
   "codemirror_mode": {
    "name": "ipython",
    "version": 3
   },
   "file_extension": ".py",
   "mimetype": "text/x-python",
   "name": "python",
   "nbconvert_exporter": "python",
   "pygments_lexer": "ipython3",
   "version": "3.7.4"
  }
 },
 "nbformat": 4,
 "nbformat_minor": 2
}
