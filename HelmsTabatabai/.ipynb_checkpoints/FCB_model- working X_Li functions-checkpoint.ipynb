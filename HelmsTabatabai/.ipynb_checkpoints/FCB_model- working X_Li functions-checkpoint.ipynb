{
 "cells": [
  {
   "cell_type": "markdown",
   "metadata": {},
   "source": [
    "Article\n",
    "A Bottom-Up Approach to Lithium-Ion Battery Cost\n",
    "Modeling with a Focus on Cathode Active Materials\n",
    "https://www.mdpi.com/1996-1073/12/3/504/pdf-vor"
   ]
  },
  {
   "cell_type": "markdown",
   "metadata": {},
   "source": [
    "# Model domain:\n",
    "- Porous graphite anode\n",
    "- Porous electrolyte separator (LiPF6 & Ethylene Carbonate:Dimethyl Carbonate)\n",
    "- Porous LiCoO2 cathode \n",
    "\n",
    "State variables:\n",
    "- Li volume fraction $X_{\\rm Li}$ in the graphite, $X_{\\rm Li,an}$\n",
    "- Electric potential of the graphite\n",
    "- Concentration of the Li+ in the electrolyte in the anode.\n",
    "- Electrolyte electric potential in the anode, $\\phi_{\\rm an}$\n",
    "- Concentration of the Li+ in the electrolyte in the separator.\n",
    "- Electrolyte electric potential in the separator, $\\phi_{\\rm sep}$\n",
    "- Concentration of the Li+ in the electrolyte in the cathode.\n",
    "- Electrolyte electric potential in the cathode, $\\phi_{\\rm ca}$\n",
    "- Li intercalation fraction $X_{\\rm Li}$ in the LCO, $X_{\\rm Li,ca}$\n",
    "- Electric potential in the LCO\n",
    "\n",
    "\n",
    "# Double Layer Current \n",
    "\n",
    "Conservation of charge for the anode double layer:\n",
    "\\begin{equation}\n",
    "    \\frac{\\partial Q_{\\rm an}}{\\partial t} = 0 = -I_{\\rm ext} -i _{\\rm Far}A_{\\rm surf} - i_{\\rm dl}A_{\\rm surf}\n",
    "\\end{equation}\n",
    "Given:\n",
    "\\begin{equation}\n",
    "    I_{\\rm ext} = i_{\\rm ext}A_{\\rm geo}\n",
    "\\end{equation}\n",
    "We get:\n",
    "\\begin{equation}\n",
    "    i_{\\rm dl} = -i_{\\rm ext}\\frac{A_{\\rm geo}}{A_{\\rm surf}} -i _{\\rm Far}\n",
    "\\end{equation}\n",
    "Given:\n",
    "\\begin{equation}\n",
    "    A_{\\rm surf} = 4\\pi r_p^2 N_p\n",
    "\\end{equation}   \n",
    "and Given:\n",
    "\\begin{equation}\n",
    "    n_p = \\frac{N_p}{A_{geo}}\n",
    "\\end{equation}\n",
    "and Given:\n",
    "\\begin{equation} \n",
    "    \\varepsilon_s = \\frac{V_{solids}}{V_{total}} = \\frac{N_p\\frac{4}{3}{\\pi}r_p^3}{A_{geo} H_{el}}\n",
    "\\end{equation}\n",
    "We get:\n",
    "\\begin{equation}\n",
    "    n_p = \\frac{3 H_{el} \\varepsilon_s}{4 \\pi r_p^3}\n",
    "\\end{equation}\n",
    "and We get:\n",
    "\\begin{equation}\n",
    "    A_{\\rm surf} = 4\\pi r_p^2 A_{geo} n_p\n",
    "\\end{equation} \n",
    "Which gives:\n",
    "\\begin{equation}\n",
    "    \\frac{A_{geo}}{A_{\\rm surf}} = \\frac{1}{4\\pi r_p^2 n_p}\n",
    "\\end{equation} \n",
    "Which gives:\n",
    "\\begin{equation}\n",
    "    \\frac{A_{geo}}{A_{\\rm surf}} = \\frac{4 \\pi r_p^3}{4\\pi r_p^2 3 H_{el} \\varepsilon_s}\n",
    "\\end{equation} \n",
    "Which reduces to:\n",
    "\\begin{equation}\n",
    "    \\frac{A_{geo}}{A_{\\rm surf}} = \\frac{r_p}{3 H_{el} \\varepsilon_s} = A_{\\rm fac}\n",
    "\\end{equation} \n",
    "Which gives:\n",
    "\\begin{equation}\n",
    "    i_{\\rm dl} = -i_{\\rm ext}\\frac{r_p}{3 H_{el} \\varepsilon_s} -i _{\\rm Far}\n",
    "\\end{equation}\n",
    "\n",
    "# Double Layer Potential\n",
    "\n",
    "Given:\n",
    "\\begin{equation}\n",
    "    \\frac{dQ_{\\rm dl}}{dt} = i_{\\rm dl}A_{\\rm surf}\n",
    "\\end{equation}\n",
    "and Given:\n",
    "\\begin{equation}\n",
    "    Q_{\\rm dl} = A_{\\rm surf}C_{\\rm dl}\\Delta\\phi_{\\rm dl}\n",
    "\\end{equation}\n",
    "For constant $A_{\\rm surf}$ and $C_{\\rm dl}$ We get:\n",
    "\\begin{equation}\n",
    "    \\frac{dA_{\\rm surf}C_{\\rm dl}\\Delta\\phi_{\\rm dl}}{dt} = A_{\\rm surf}C_{\\rm dl}\\frac{d\\Delta\\phi_{\\rm dl}}{dt} = A_{\\rm surf}i_{\\rm dl}\n",
    "\\end{equation}\n",
    "Given:\n",
    "\\begin{equation}\n",
    "    \\Delta\\phi_{\\rm dl} = \\phi_{\\rm elyte} - \\phi_{\\rm an}\n",
    "\\end{equation}\n",
    "We get:\n",
    "\\begin{equation}\n",
    "    \\frac{d\\Delta\\phi_{\\rm dl}}{dt} =\\frac{d\\left(\\phi_{\\rm elyte} - \\phi_{\\rm an}\\right)}{dt} = \\frac{i_{\\rm dl}}{C_{\\rm dl}} = \\frac{1}{C_{\\rm dl}}\\left(-i_{\\rm ext}A_{\\rm fac} -i _{\\rm Far}\\right)\n",
    "\\end{equation}\n",
    "Using the anode as our reference potential gives:\n",
    "\\begin{equation}\n",
    "    \\phi_{\\rm an} = 0V\n",
    "\\end{equation}\n",
    "Which gives:\n",
    "\\begin{equation}\n",
    "    \\Delta\\phi_{\\rm dl} = \\phi_{\\rm elyte}\n",
    "\\end{equation}\n"
   ]
  },
  {
   "cell_type": "code",
   "execution_count": 361,
   "metadata": {},
   "outputs": [],
   "source": [
    "# Inputs:\n",
    "\n",
    "#General\n",
    "C_rate = 6 # How many charges per hour? \n",
    "charge_frac = 0.9\n",
    "d_battery = 0.018 #m\n",
    "T = 298 #K W\n",
    "nu_Li = 1 #mol Li/mol rxn\n",
    "\n",
    "#Anode\n",
    "r_p_an = 4e-6 #m  (https://www.sigmaaldrich.com/catalog/product/supelco/50226u?lang=en&region=US)\n",
    "phi_an_0 = 0 #V \n",
    "C_dl_an = 1e4 #F/m2\n",
    "i_o_an = 4.0  #A/m2\n",
    "n_an = -1\n",
    "beta_an = 0.5\n",
    "H_an = 45e-6  #m (https://arxiv.org/abs/1803.04317)\n",
    "density_graphite = 2260 #kg/m3 (https://www.entegris.com/content/dam/web/resources/manuals-and-guides/manual-properties-and-characteristics-of-graphite-109441.pdf)\n",
    "capacity_graphite = 350 #Ah/kg\n",
    "eps_graphite = 0.65 #(https://www.entegris.com/content/dam/web/resources/manuals-and-guides/manual-properties-and-characteristics-of-graphite-109441.pdf)\n",
    "dPhi_eq_an = -1.6\n",
    "MW_graphite = 0.072 #kg/mol\n",
    "X_Li_an_0 = 0.001\n",
    "\n",
    "#Electrolyte\n",
    "phi_sep_0 = 1.8  #V W \n",
    "H_elyte = 25e-6 #m\n",
    "\n",
    "#Cathode\n",
    "r_p_ca = 8.5e-6 #m\n",
    "phi_ca_0 = 4.6  #V \n",
    "C_dl_ca = 1e4 #F/m2\n",
    "i_o_ca = 100 #A/m2\n",
    "n_ca = -1\n",
    "beta_ca = 0.5\n",
    "H_ca = 50e-6  #m\n",
    "density_LCO = 2292  #kg/m3\n",
    "capacity_LCO = 175  #Ah/kg\n",
    "eps_LCO = 0.65\n",
    "dPhi_eq_ca = 2.6\n",
    "MW_LCO = 0.098 #kg/mol\n",
    "X_Li_ca_0 = 0.5\n",
    "\n",
    "# How deep do we want to charge/discharge?\n",
    "\n",
    "\n",
    "\n",
    "\n",
    "\n",
    "\n",
    "\n",
    "\n"
   ]
  },
  {
   "cell_type": "markdown",
   "metadata": {},
   "source": [
    "### Capacity\n",
    "\n",
    "\\begin{equation}\n",
    "    {\\rm Cap} = C_{\\rm AM}\\rho_{\\rm AM}\\varepsilon_{\\rm AM}H_{\\rm el}\n",
    "\\end{equation}\n"
   ]
  },
  {
   "cell_type": "code",
   "execution_count": 362,
   "metadata": {},
   "outputs": [],
   "source": [
    "# Initialize:\n",
    "phi_dl_an_0 = phi_an_0 - phi_sep_0\n",
    "phi_dl_ca_0 = phi_ca_0 - phi_sep_0\n",
    "\n",
    "\n",
    "capacity_anode = capacity_graphite*H_an*eps_graphite*density_graphite\n",
    "capacity_cathode = capacity_LCO*H_ca*eps_LCO*density_LCO\n",
    "capacity_area = min(capacity_anode,capacity_cathode)\n",
    "\n",
    "\n",
    "t_final = charge_frac*3600./C_rate\n",
    "i_ext = C_rate*capacity_area\n",
    "\n",
    "A_fac_an = r_p_an/3/H_an/eps_graphite\n",
    "A_fac_ca = r_p_ca/3/H_ca/eps_LCO\n",
    "A_geo = pi*(d_battery/2)**2"
   ]
  },
  {
   "cell_type": "code",
   "execution_count": 363,
   "metadata": {},
   "outputs": [],
   "source": [
    "# Constants\n",
    "F = 96485\n",
    "R = 8.3145"
   ]
  },
  {
   "cell_type": "code",
   "execution_count": 364,
   "metadata": {},
   "outputs": [],
   "source": [
    "import numpy as np\n",
    "from math import exp\n",
    "from math import pi\n",
    "\n",
    "def residual(t,SV):\n",
    "    dSV_dt = np.zeros_like(SV)\n",
    "    \n",
    "    eta_an = SV[0] - dPhi_eq_an\n",
    "    i_Far_an = i_o_an*(exp(-n_an*F*beta_an*eta_an/R/T)\n",
    "                      - exp(n_an*F*(1-beta_an)*eta_an/R/T))\n",
    "    i_dl_an = i_ext*A_fac_an - i_Far_an\n",
    "    \n",
    "    dSV_dt[0] = i_dl_an/C_dl_an\n",
    "    \n",
    "    \n",
    "    eta_ca = SV[1] - dPhi_eq_ca\n",
    "    i_Far_ca = i_o_ca*(exp(-n_ca*F*beta_ca*eta_ca/R/T)\n",
    "                      - exp(n_ca*F*(1-beta_ca)*eta_ca/R/T))\n",
    "    i_dl_ca = -i_ext*A_fac_ca - i_Far_ca\n",
    "    \n",
    "    \n",
    "    dSV_dt[1] = i_dl_ca/C_dl_ca\n",
    "    \n",
    "    V_cell = dSV_dt[0]-dSV_dt[1]\n",
    "\n",
    "    \n",
    "    return dSV_dt\n",
    " "
   ]
  },
  {
   "cell_type": "code",
   "execution_count": 365,
   "metadata": {},
   "outputs": [],
   "source": [
    "from scipy.integrate import solve_ivp\n",
    "\n",
    "SV_0 = np.array([phi_dl_an_0, phi_dl_ca_0])\n",
    "\n",
    "time_span = np.array([0,t_final])\n",
    "\n",
    "solution = solve_ivp(residual,time_span,SV_0,rtol=1e-6, atol=1e-8)\n",
    "\n",
    "#print (solution) \n",
    "\n"
   ]
  },
  {
   "cell_type": "code",
   "execution_count": 366,
   "metadata": {
    "scrolled": true
   },
   "outputs": [
    {
     "data": {
      "text/plain": [
       "Text(0.5, 0, 'Time(s)')"
      ]
     },
     "execution_count": 366,
     "metadata": {},
     "output_type": "execute_result"
    },
    {
     "data": {
      "image/png": "[encoded data removed]",
      "text/plain": [
       "<Figure size 432x288 with 1 Axes>"
      ]
     },
     "metadata": {
      "needs_background": "light"
     },
     "output_type": "display_data"
    }
   ],
   "source": [
    "from matplotlib import pyplot as plt\n",
    "for var in solution.y:\n",
    "    plt.plot(solution.t,var)\n",
    "    \n",
    "plt.legend(['Anode double layer','Cathode double layer'])\n",
    "\n",
    "plt.legend(['Anode double layer','Cathode double layer'])\n",
    "plt.ylabel('Potential (V)',fontsize=14)\n",
    "plt.xlabel('Time(s)',fontsize=14)"
   ]
  },
  {
   "cell_type": "code",
   "execution_count": 367,
   "metadata": {
    "scrolled": true
   },
   "outputs": [
    {
     "data": {
      "text/plain": [
       "Text(0.5, 0, 'Time(s)')"
      ]
     },
     "execution_count": 367,
     "metadata": {},
     "output_type": "execute_result"
    },
    {
     "data": {
      "image/png": "[encoded data removed]",
      "text/plain": [
       "<Figure size 432x288 with 1 Axes>"
      ]
     },
     "metadata": {
      "needs_background": "light"
     },
     "output_type": "display_data"
    }
   ],
   "source": [
    "#print (solution.y[0])\n",
    "#print (solution.y[1])\n",
    "for var in solution.y:\n",
    "    V_cell = solution.y[1]-solution.y[0]\n",
    "    plt.plot(solution.t,V_cell)\n",
    "#print(V_cell)\n",
    "#plt.plot(V_cell)\n",
    "plt.ylabel('Cell Potential (V)',fontsize=14)\n",
    "plt.xlabel('Time(s)',fontsize=14)"
   ]
  },
  {
   "cell_type": "code",
   "execution_count": 368,
   "metadata": {},
   "outputs": [],
   "source": [
    "#ANODE\n",
    "\n",
    "time = np.array([0,100])\n",
    "SV_an = phi_dl_an_0\n",
    "X_an = X_Li_an_0\n",
    "initial_an = [SV_an, X_an]\n",
    "\n",
    "def residual(t,SV_an):\n",
    "    dSV_dt = np.zeros_like(SV)\n",
    "    dphi, X_an =SV_an\n",
    "    eta_an = SV_an[0] - dPhi_eq_an\n",
    "    i_Far_an = i_o_an*(exp(-n_an*F*beta_an*eta_an/R/T)\n",
    "                      - exp(n_an*F*(1-beta_an)*eta_an/R/T))\n",
    "    i_dl_an = i_ext*A_fac_an - i_Far_an\n",
    "    \n",
    "    dSV_dt = i_dl_an/C_dl_an\n",
    "    \n",
    "    s_dot_an = i_Far_an*nu_Li/n_an/F\n",
    "\n",
    "    C_0_an = density_graphite/MW_graphite\n",
    "    N_graphite = 3*H_an*eps_graphite*A_geo/(4*pi*r_p_an**3)\n",
    "    A_surf = 4*pi*(r_p_an**2)*N_graphite\n",
    "\n",
    "    dX_Li_dt = 1/C_0_an/eps_graphite*A_surf/A_geo/H_an*s_dot_an\n",
    "    \n",
    "    #print(dX_Li_dt)\n",
    "    return [dSV_dt, dX_Li_dt]\n",
    "\n",
    "solution_an  = solve_ivp(residual, time, initial_an)"
   ]
  },
  {
   "cell_type": "code",
   "execution_count": 369,
   "metadata": {},
   "outputs": [
    {
     "data": {
      "text/plain": [
       "Text(0, 0.5, 'X_Li')"
      ]
     },
     "execution_count": 369,
     "metadata": {},
     "output_type": "execute_result"
    },
    {
     "data": {
      "image/png": "[encoded data removed]",
      "text/plain": [
       "<Figure size 432x288 with 1 Axes>"
      ]
     },
     "metadata": {
      "needs_background": "light"
     },
     "output_type": "display_data"
    }
   ],
   "source": [
    "plt.plot(solution_an.t,solution_an.y[1])\n",
    "plt.xlabel(\"time\")\n",
    "plt.ylabel(\"X_Li\")"
   ]
  },
  {
   "cell_type": "code",
   "execution_count": 373,
   "metadata": {},
   "outputs": [],
   "source": [
    "#CATHODE\n",
    "time = np.array([0,100])\n",
    "SV_ca = phi_dl_ca_0\n",
    "X_ca = X_Li_ca_0\n",
    "initial_ca = [SV_ca, X_ca]\n",
    "\n",
    "def residual(t,SV_ca):\n",
    "    dSV_dt = np.zeros_like(SV)\n",
    "    dphi, X_ca =SV_ca\n",
    "    eta_ca = SV_ca[0] - dPhi_eq_ca\n",
    "    i_Far_ca = i_o_ca*(exp(-n_ca*F*beta_ca*eta_ca/R/T)\n",
    "                      - exp(n_ca*F*(1-beta_ca)*eta_ca/R/T))\n",
    "    i_dl_ca = -i_ext*A_fac_ca - i_Far_ca\n",
    "    \n",
    "    \n",
    "    dSV_dt = i_dl_ca/C_dl_ca\n",
    "    \n",
    "    s_dot_ca = -i_Far_ca*nu_Li/n_ca/F\n",
    "\n",
    "    C_0_ca = density_LCO/MW_LCO\n",
    "    N_LCO = 3*H_an*eps_LCO*A_geo/(4*pi*r_p_ca**3)\n",
    "    A_surf = 4*pi*(r_p_ca**2)*N_LCO\n",
    "\n",
    "    dX_Li_dt = 1/C_0_ca/eps_LCO*A_surf/A_geo/H_ca*s_dot_ca\n",
    "    \n",
    "    return [dSV_dt, dX_Li_dt]\n",
    "\n",
    "solution_ca  = solve_ivp(residual, time, initial_ca)"
   ]
  },
  {
   "cell_type": "code",
   "execution_count": 374,
   "metadata": {},
   "outputs": [
    {
     "data": {
      "text/plain": [
       "Text(0, 0.5, 'X_Li')"
      ]
     },
     "execution_count": 374,
     "metadata": {},
     "output_type": "execute_result"
    },
    {
     "data": {
      "image/png": "[encoded data removed]",
      "text/plain": [
       "<Figure size 432x288 with 1 Axes>"
      ]
     },
     "metadata": {
      "needs_background": "light"
     },
     "output_type": "display_data"
    }
   ],
   "source": [
    "plt.plot(solution_ca.t,solution_ca.y[1])\n",
    "plt.xlabel(\"time\")\n",
    "plt.ylabel(\"X_Li\")"
   ]
  },
  {
   "cell_type": "code",
   "execution_count": 372,
   "metadata": {},
   "outputs": [
    {
     "name": "stdout",
     "output_type": "stream",
     "text": [
      "[-1.8        -1.79948083 -1.79796148 -1.79596604 -1.79298579 -1.78882751\n",
      " -1.78320111 -1.77602997 -1.76750425 -1.75807376 -1.7482752  -1.7385656\n",
      " -1.72920591 -1.72024008 -1.7115737  -1.70305947 -1.69453394 -1.68581783\n",
      " -1.67669859 -1.66690283 -1.65608253 -1.64409318 -1.63437273 -1.62705099\n",
      " -1.62060964 -1.61504867 -1.6102222  -1.60601962 -1.60276963 -1.59982714\n",
      " -1.59691968 -1.59419671 -1.59224429 -1.59046211 -1.58874978 -1.58720035\n",
      " -1.58606109 -1.58502935 -1.58404265 -1.58314959 -1.58249119 -1.58189746\n",
      " -1.58133437 -1.58082768 -1.58045138 -1.58011335 -1.5797947  -1.57950889\n",
      " -1.57929526 -1.5791039  -1.57892445 -1.57876394 -1.57864317 -1.57853524\n",
      " -1.57843448 -1.57834455 -1.57827645 -1.5782157  -1.57815921 -1.57810889\n",
      " -1.57807055 -1.5780364  -1.57800476 -1.57797662 -1.57795505 -1.57793587\n",
      " -1.57791816 -1.57790242 -1.5778903  -1.57787953 -1.57786961 -1.57786081\n",
      " -1.577854   -1.57784796 -1.57784241 -1.57783749 -1.57783327 -1.57783019\n",
      " -1.5778274  -1.57782464 -1.57782433]\n"
     ]
    },
    {
     "ename": "IndexError",
     "evalue": "only integers, slices (`:`), ellipsis (`...`), numpy.newaxis (`None`) and integer or boolean arrays are valid indices",
     "output_type": "error",
     "traceback": [
      "\u001b[1;31m---------------------------------------------------------------------------\u001b[0m",
      "\u001b[1;31mIndexError\u001b[0m                                Traceback (most recent call last)",
      "\u001b[1;32m<ipython-input-372-9a596f91669c>\u001b[0m in \u001b[0;36m<module>\u001b[1;34m\u001b[0m\n\u001b[0;32m     10\u001b[0m \u001b[1;33m\u001b[0m\u001b[0m\n\u001b[0;32m     11\u001b[0m \u001b[1;32mfor\u001b[0m \u001b[0mind\u001b[0m \u001b[1;32min\u001b[0m \u001b[0menumerate\u001b[0m\u001b[1;33m(\u001b[0m\u001b[0mdelta_phi_an\u001b[0m\u001b[1;33m)\u001b[0m\u001b[1;33m:\u001b[0m\u001b[1;33m\u001b[0m\u001b[1;33m\u001b[0m\u001b[0m\n\u001b[1;32m---> 12\u001b[1;33m     \u001b[0meta_an\u001b[0m \u001b[1;33m=\u001b[0m \u001b[0mdelta_phi_an\u001b[0m\u001b[1;33m[\u001b[0m\u001b[0mind\u001b[0m\u001b[1;33m]\u001b[0m\u001b[1;33m-\u001b[0m\u001b[0mdPhi_eq_an\u001b[0m\u001b[1;33m\u001b[0m\u001b[1;33m\u001b[0m\u001b[0m\n\u001b[0m\u001b[0;32m     13\u001b[0m \u001b[1;33m\u001b[0m\u001b[0m\n\u001b[0;32m     14\u001b[0m     \u001b[0mi_Far_an\u001b[0m \u001b[1;33m=\u001b[0m \u001b[0mi_o_an\u001b[0m\u001b[1;33m*\u001b[0m\u001b[1;33m(\u001b[0m\u001b[0mexp\u001b[0m\u001b[1;33m(\u001b[0m\u001b[1;33m-\u001b[0m\u001b[0mn_an\u001b[0m\u001b[1;33m*\u001b[0m\u001b[0mF\u001b[0m\u001b[1;33m*\u001b[0m\u001b[0mbeta_an\u001b[0m\u001b[1;33m*\u001b[0m\u001b[0meta_an\u001b[0m\u001b[1;33m/\u001b[0m\u001b[0mR\u001b[0m\u001b[1;33m/\u001b[0m\u001b[0mT\u001b[0m\u001b[1;33m)\u001b[0m\u001b[1;33m-\u001b[0m \u001b[0mexp\u001b[0m\u001b[1;33m(\u001b[0m\u001b[0mn_an\u001b[0m\u001b[1;33m*\u001b[0m\u001b[0mF\u001b[0m\u001b[1;33m*\u001b[0m\u001b[1;33m(\u001b[0m\u001b[1;36m1\u001b[0m\u001b[1;33m-\u001b[0m\u001b[0mbeta_an\u001b[0m\u001b[1;33m)\u001b[0m\u001b[1;33m*\u001b[0m\u001b[0meta_an\u001b[0m\u001b[1;33m/\u001b[0m\u001b[0mR\u001b[0m\u001b[1;33m/\u001b[0m\u001b[0mT\u001b[0m\u001b[1;33m)\u001b[0m\u001b[1;33m)\u001b[0m\u001b[1;33m\u001b[0m\u001b[1;33m\u001b[0m\u001b[0m\n",
      "\u001b[1;31mIndexError\u001b[0m: only integers, slices (`:`), ellipsis (`...`), numpy.newaxis (`None`) and integer or boolean arrays are valid indices"
     ]
    }
   ],
   "source": [
    "t = 0\n",
    "t_final = 200\n",
    "end = t_final + 1\n",
    "X_Li_an = np.empty(end)\n",
    "\n",
    "print(solution.y[0])\n",
    "#X_Li_an[0] = 0.001\n",
    "delta_phi_an = solution.y[0]\n",
    "i_Far_an = np.zeros_like(solution.y[0])\n",
    "\n",
    "for ind in enumerate(delta_phi_an):\n",
    "    eta_an = delta_phi_an[ind]-dPhi_eq_an\n",
    "    \n",
    "    i_Far_an = i_o_an*(exp(-n_an*F*beta_an*eta_an/R/T)- exp(n_an*F*(1-beta_an)*eta_an/R/T))\n",
    "\n",
    "#print (i_Far_an)  \n",
    "\n",
    "\n",
    "''''for t in range (0, t_final):   \n",
    "    s_dot_an = i_Far_an[t]*nu_Li/n_an/F\n",
    "    C_0_an = density_graphite/MW_graphite\n",
    "    N_graphite = 3*H_an*eps_graphite*A_geo/(4*pi*r_p_an**3)\n",
    "    A_surf = 4*pi*(r_p_an**2)*N_graphite\n",
    "    dX_Li_dt = 1/C_0_an/eps_graphite*A_surf/A_geo/H_an*s_dot_an\n",
    "    X_Li_an[t+1] = X_Li_an[t] + dX_Li_dt\n",
    "    #X_Li_an.append()\n",
    "    #print(dX_Li_dt)\n",
    "    t = t+1'''"
   ]
  },
  {
   "cell_type": "code",
   "execution_count": null,
   "metadata": {},
   "outputs": [],
   "source": [
    "t = np.arange(0, end)\n",
    "plt.plot(t, X_Li_an[t])"
   ]
  },
  {
   "cell_type": "code",
   "execution_count": null,
   "metadata": {},
   "outputs": [],
   "source": []
  }
 ],
 "metadata": {
  "kernelspec": {
   "display_name": "Python 3",
   "language": "python",
   "name": "python3"
  },
  "language_info": {
   "codemirror_mode": {
    "name": "ipython",
    "version": 3
   },
   "file_extension": ".py",
   "mimetype": "text/x-python",
   "name": "python",
   "nbconvert_exporter": "python",
   "pygments_lexer": "ipython3",
   "version": "3.7.4"
  }
 },
 "nbformat": 4,
 "nbformat_minor": 2
}
